{
 "cells": [
  {
   "cell_type": "code",
   "execution_count": null,
   "id": "270e726e",
   "metadata": {
    "vscode": {
     "languageId": "plaintext"
    }
   },
   "outputs": [],
   "source": [
    "#backtester\n",
    "\n",
    "import math\n",
    "import pandas as pd\n",
    "import pandas_ta as ta \n",
    "import numpy as np\n",
    "from backtesting import Strategy \n",
    "\n",
    "class SimpleRSI(Strategy):\n",
    "    #tunable params:\n",
    "    RSI_PERIOD   = 14\n",
    "    RSI_ENTRY    = 30       # cross UP through this -> buy\n",
    "    RSI_EXIT     = 70       # cross DOWN through this -> exit\n",
    "    SMA_TREND    = 200      # only trade if Close > SMA(200)\n",
    "    ATR_PERIOD   = 14\n",
    "    ATR_MULT     = 2.0      # conservative stop = Entry - ATR_MULT * ATR (average true range)\n",
    "    PER_TRADE_CAP = 0.10    # fraction of available cash to commit (0.0–1.0)\n",
    "\n",
    "    def init(self):\n",
    "        close = self.data.Close #most recent price\n",
    "        #rsi indicator set up\n",
    "        self.rsi = self.I(lambda x: ta.rsi(x, legnth=self.RSI_PERIOD), close)\n",
    "        #sma indicator set up\n",
    "        self.sma = self.I(lambda x: x.rolling(self.SMA_TREND).mean(), close)\n",
    "        #average true range for stop loss sizeing (using tuple unpacking)\n",
    "        high, low = self.data.High, self.data.Low\n",
    "        self.atr = self.I(\n",
    "            lambda h, l, c: ta.atr(\n",
    "                h, l, c, length=self.ATR_PERIOD),\n",
    "                high, low, close)\n",
    "        \n",
    "        @staticmethod #<- bypass self.\n",
    "        def _cross_up(series, level)-> bool:\n",
    "            ''' yesterday below level and today at/above level'''\n",
    "            return len(series) >= 2 and series[-2] < level <= series[-1]\n",
    "        \n",
    "        @staticmethod #<- bypass self.\n",
    "        def _cross_down(series, level)-> bool: \n",
    "            return len(series) >= 2 and series[-2] > level >= series[-1]\n",
    "        \n",
    "        def next(self):\n",
    "            price = self.data.Close[-1]\n",
    "            above_trend = price > self.sma[-1] if pd.notna(self.sma[-1]) else False"
   ]
  },
  {
   "cell_type": "code",
   "execution_count": null,
   "id": "17d69437",
   "metadata": {
    "vscode": {
     "languageId": "plaintext"
    }
   },
   "outputs": [],
   "source": [
    "# data.py \n",
    "\n"
   ]
  }
 ],
 "metadata": {
  "language_info": {
   "name": "python"
  }
 },
 "nbformat": 4,
 "nbformat_minor": 5
}
